{
 "cells": [
  {
   "cell_type": "markdown",
   "id": "4f6bd7b7-9273-4155-b379-237d691e471b",
   "metadata": {},
   "source": [
    "# Notes\n",
    "\n",
    "Collaborative filters can further be classified into two types:\n",
    "\n",
    "* `user-based filtering` - recommend products to a user that **similar** users have liked. If tony and jeris have a similar in games, and tony plays a new game and likes it, it is highly likely that jeris will like it to.\n",
    "\n",
    "* `item-based filtering` - extremely similar to the content recommendation engine that you built. These systems identify similar items based on how people have rated it in the past. If tony and jeris gave 5 stars to LOTR and the Hobbit, the system identifies the items as similar, so if lehcar buys LOTR, the system will recommend the Hobbit."
   ]
  },
  {
   "cell_type": "code",
   "execution_count": null,
   "id": "37523815-514d-463d-a4a3-db59d24b62bd",
   "metadata": {},
   "outputs": [],
   "source": []
  }
 ],
 "metadata": {
  "kernelspec": {
   "display_name": "Python 3 (ipykernel)",
   "language": "python",
   "name": "python3"
  },
  "language_info": {
   "codemirror_mode": {
    "name": "ipython",
    "version": 3
   },
   "file_extension": ".py",
   "mimetype": "text/x-python",
   "name": "python",
   "nbconvert_exporter": "python",
   "pygments_lexer": "ipython3",
   "version": "3.7.11"
  }
 },
 "nbformat": 4,
 "nbformat_minor": 5
}
