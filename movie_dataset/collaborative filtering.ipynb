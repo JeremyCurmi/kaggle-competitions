{
 "cells": [
  {
   "cell_type": "markdown",
   "id": "4f6bd7b7-9273-4155-b379-237d691e471b",
   "metadata": {},
   "source": [
    "# Notes\n",
    "\n",
    "Collaborative filters can further be classified into two types:\n",
    "\n",
    "* `user-based filtering` - recommend products to a user that **similar** users have liked. If tony and jeris have a similar in games, and tony plays a new game and likes it, it is highly likely that jeris will like it to.\n",
    "\n",
    "* `item-based filtering` - extremely similar to the content recommendation engine that you built. These systems identify similar items based on how people have rated it in the past. If tony and jeris gave 5 stars to LOTR and the Hobbit, the system identifies the items as similar, so if lehcar buys LOTR, the system will recommend the Hobbit."
   ]
  },
  {
   "cell_type": "code",
   "execution_count": null,
   "id": "aa2b2b78-166d-4aee-bd47-0c45c8e266a4",
   "metadata": {},
   "outputs": [],
   "source": [
    "import numpy as np\n",
    "import pandas as pd \n",
    "from ast import literal_eval\n",
    "\n",
    "import matplotlib.pyplot as plt\n",
    "import seaborn as sns\n",
    "\n",
    "from sklearn.metrics.pairwise import cosine_similarity"
   ]
  },
  {
   "cell_type": "code",
   "execution_count": null,
   "id": "8739dbd4-bbcd-4b3c-a008-c4757ac7f822",
   "metadata": {},
   "outputs": [],
   "source": [
    "data_path = '/Users/jeremy/data/movie_datasets/'"
   ]
  },
  {
   "cell_type": "code",
   "execution_count": null,
   "id": "37523815-514d-463d-a4a3-db59d24b62bd",
   "metadata": {},
   "outputs": [],
   "source": [
    "df_ratings = pd.read_csv(data_path + 'ratings.csv')\n",
    "df_meta = pd.read_csv(data_path + 'movies_metadata.csv')"
   ]
  },
  {
   "cell_type": "code",
   "execution_count": null,
   "id": "51e24d38-e4c3-4de3-99d6-0b8d9a0a6cd9",
   "metadata": {},
   "outputs": [],
   "source": [
    "df_ratings.head()"
   ]
  },
  {
   "cell_type": "markdown",
   "id": "0f96f01e-376e-4097-9afb-0ab297af4ab8",
   "metadata": {},
   "source": [
    "# Data Processing"
   ]
  },
  {
   "cell_type": "code",
   "execution_count": null,
   "id": "bf723a5d-84b5-4b68-8efc-0fd144827195",
   "metadata": {},
   "outputs": [],
   "source": [
    "df_meta.dropna(subset=['title'], inplace=True)\n",
    "\n",
    "df_meta['id'] = pd.to_numeric(df_meta['id'])\n",
    "df_meta['budget'] = pd.to_numeric(df_meta['budget'])\n",
    "df_meta['popularity'] = pd.to_numeric(df_meta['popularity'])\n",
    "\n",
    "df_meta['genres'] = df_meta['genres'].apply(literal_eval)"
   ]
  },
  {
   "cell_type": "code",
   "execution_count": null,
   "id": "42000fde-c8f9-4298-99b8-51c1ea1970ba",
   "metadata": {},
   "outputs": [],
   "source": [
    "df_meta.info()"
   ]
  },
  {
   "cell_type": "markdown",
   "id": "cfebc8c8-c297-4835-9e47-090c12ac41ea",
   "metadata": {},
   "source": [
    "# Collaborative Filtering Recommender\n",
    "\n",
    "## 1. Cosine Similarities\n",
    "\n",
    "using mean of other user's weighted ratings based on similarity matrix"
   ]
  },
  {
   "cell_type": "code",
   "execution_count": null,
   "id": "2112f1ff-2f0c-4fc7-9a4a-fc81a9969b26",
   "metadata": {},
   "outputs": [],
   "source": [
    "data = df_ratings.merge(df_meta[['id','title']], left_on='movieId', right_on='id')\n",
    "data = data.drop(['id'],axis=1)"
   ]
  },
  {
   "cell_type": "code",
   "execution_count": null,
   "id": "1277dbd9-d481-451f-9ae7-90ca6bb7ed32",
   "metadata": {},
   "outputs": [],
   "source": [
    "# get total counts for each movie\n",
    "data['count'] = data.groupby('movieId').transform('count')['userId']\n",
    "data.head()"
   ]
  },
  {
   "cell_type": "code",
   "execution_count": null,
   "id": "57bf3b3f-a363-40fd-b877-a92a5b88f2e5",
   "metadata": {},
   "outputs": [],
   "source": [
    "# fetch top 100 movie ids based on count\n",
    "top_n = 100\n",
    "top_n_movie_id = data.drop_duplicates('movieId').sort_values('count', ascending=False)\n",
    "top_n_movie_id = top_n_movie_id[:top_n]['movieId']"
   ]
  },
  {
   "cell_type": "code",
   "execution_count": null,
   "id": "17aa947a-3f5e-4a54-94c6-9bf8490e7ba8",
   "metadata": {},
   "outputs": [],
   "source": [
    "# filter out data according to the remaining movieIds\n",
    "data = data[data['movieId'].isin(top_n_movie_id)].reset_index(drop=True)\n",
    "data.head()"
   ]
  },
  {
   "cell_type": "code",
   "execution_count": null,
   "id": "28c00c4b-c911-4233-8804-4f02fe3563ac",
   "metadata": {},
   "outputs": [],
   "source": [
    "# fetch top 20000 users based on number of movies watched\n",
    "top_n_users= 20000\n",
    "user_id = data.drop_duplicates('userId').sort_values('count', ascending=False)\n",
    "user_id = user_id[:top_n_users]['userId']"
   ]
  },
  {
   "cell_type": "code",
   "execution_count": null,
   "id": "52e05157-ca62-410a-bff8-76ce260997c9",
   "metadata": {},
   "outputs": [],
   "source": [
    "data = data[data.userId.isin(user_id)].reset_index(drop=True)\n",
    "display(data.head())\n",
    "display(data.shape)"
   ]
  },
  {
   "cell_type": "code",
   "execution_count": null,
   "id": "1df04d74-b7dd-4e98-b3b9-2a1e0d03fe31",
   "metadata": {},
   "outputs": [],
   "source": [
    "# create a user to movie rating matrix\n",
    "df = data.pivot(index='userId', columns = 'movieId', values='rating')\n",
    "df.head()"
   ]
  },
  {
   "cell_type": "code",
   "execution_count": null,
   "id": "be9446ae-5ca2-4b03-a931-c74532930ecb",
   "metadata": {},
   "outputs": [],
   "source": [
    "# replace NaN with average movie rating\n",
    "df_imputed = df.fillna(df.mean(axis=0))\n",
    "display(df_imputed.head())\n",
    "display(df_imputed.shape)"
   ]
  },
  {
   "cell_type": "code",
   "execution_count": null,
   "id": "6ba24988-b268-4cff-afaa-3212a41755d5",
   "metadata": {},
   "outputs": [],
   "source": [
    "# compute similarity between all users\n",
    "similarity_matrix = cosine_similarity(df_imputed.values)\n",
    "df_similarity = pd.DataFrame(similarity_matrix, columns = df_imputed.index, index = df_imputed.index)\n",
    "display(df_similarity.head())\n",
    "display(df_similarity.shape)"
   ]
  },
  {
   "cell_type": "code",
   "execution_count": null,
   "id": "d49a65f0-a2cb-47e5-a552-211ec73121ce",
   "metadata": {},
   "outputs": [],
   "source": [
    "def get_cf_recommendation(user_id: int):\n",
    "    \n",
    "    # get similarity scores for user\n",
    "    sim_scores = df_similarity[user_id]\n",
    "    \n",
    "    # get movies that are unrated by user\n",
    "    movie_ratings_for_user = df.T[user_id]\n",
    "    movie_ratings_for_user_is_null = movie_ratings_for_user.isnull()\n",
    "    unrated_movies_for_user = df.loc[df.index==user_id, movie_ratings_for_user_is_null]\n",
    "    unrated_movies = unrated_movies_for_user.columns.tolist()\n",
    "    \n",
    "    # get weighted ratings of unrated movies by all other users\n",
    "    movie_ratings = (df_imputed[unrated_movies].T * sim_scores).T\n",
    "    \n",
    "    # get top 100 similar users, skip current user\n",
    "    sim_scores = sim_scores.sort_values(ascending=False)[1:101]\n",
    "    \n",
    "    movie_ratings = movie_ratings.mean(axis=0)\n",
    "    movie_ratings = pd.DataFrame(movie_ratings,columns=['rating']).reset_index()\n",
    "    \n",
    "    recommended_movies = df_meta[['title','id']].merge(movie_ratings, left_on='id', right_on='movieId')\n",
    "    recommended_movies = recommended_movies.sort_values('rating', ascending=False)\n",
    "   \n",
    "    return recommended_movies.head(10)\n",
    "\n",
    "get_cf_recommendation(10)"
   ]
  },
  {
   "cell_type": "markdown",
   "id": "84df1de8-609d-42f6-9bd0-f73821b3df6f",
   "metadata": {},
   "source": [
    "# 2. Surprise Package"
   ]
  },
  {
   "cell_type": "code",
   "execution_count": null,
   "id": "e0973f90-1328-4b82-b252-c6b9b3f807e8",
   "metadata": {},
   "outputs": [],
   "source": []
  }
 ],
 "metadata": {
  "kernelspec": {
   "display_name": "Python 3 (ipykernel)",
   "language": "python",
   "name": "python3"
  },
  "language_info": {
   "codemirror_mode": {
    "name": "ipython",
    "version": 3
   },
   "file_extension": ".py",
   "mimetype": "text/x-python",
   "name": "python",
   "nbconvert_exporter": "python",
   "pygments_lexer": "ipython3",
   "version": "3.7.11"
  }
 },
 "nbformat": 4,
 "nbformat_minor": 5
}
