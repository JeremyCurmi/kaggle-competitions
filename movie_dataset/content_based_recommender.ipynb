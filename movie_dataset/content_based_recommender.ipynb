{
 "cells": [
  {
   "cell_type": "markdown",
   "id": "cc84b968-2fe1-499c-93cd-53cf0dc72400",
   "metadata": {},
   "source": [
    " [datacamp_link](https://www.datacamp.com/community/tutorials/recommender-systems-python)"
   ]
  },
  {
   "cell_type": "markdown",
   "id": "56583f53-ddcc-4208-9b58-66bee8ad6289",
   "metadata": {
    "jp-MarkdownHeadingCollapsed": true,
    "tags": []
   },
   "source": [
    "# Content based Recommendation \n",
    "\n",
    "## Idea 1: Overview/Description\n",
    "\n",
    "#### Limitations:\n",
    "\n",
    "* if user watches a movie, he might be interested in watching another movie with the same main actor or director for example, rather than another film with a similar description. This is not handled in this method."
   ]
  },
  {
   "cell_type": "markdown",
   "id": "393676b3-ecdf-4ec9-881c-f4904b5e479d",
   "metadata": {},
   "source": [
    "## Import Libraries"
   ]
  },
  {
   "cell_type": "code",
   "execution_count": 1,
   "id": "3a93843b-f38a-4c1d-bd0e-af6943bb31ce",
   "metadata": {},
   "outputs": [],
   "source": [
    "import numpy as np\n",
    "import pandas as pd\n",
    "import matplotlib.pyplot as plt\n",
    "import seaborn as sns\n",
    "from sklearn.metrics.pairwise import linear_kernel\n",
    "from sklearn.feature_extraction.text import TfidfVectorizer"
   ]
  },
  {
   "cell_type": "code",
   "execution_count": 2,
   "id": "617d6adb-faae-4851-8593-29960273561c",
   "metadata": {},
   "outputs": [],
   "source": [
    "data_path = '/Users/jeremy/data/movie_datasets/'"
   ]
  },
  {
   "cell_type": "code",
   "execution_count": 3,
   "id": "b64d305c-94db-4f92-8d76-b72c65fc3a89",
   "metadata": {},
   "outputs": [
    {
     "data": {
      "text/html": [
       "<div>\n",
       "<style scoped>\n",
       "    .dataframe tbody tr th:only-of-type {\n",
       "        vertical-align: middle;\n",
       "    }\n",
       "\n",
       "    .dataframe tbody tr th {\n",
       "        vertical-align: top;\n",
       "    }\n",
       "\n",
       "    .dataframe thead th {\n",
       "        text-align: right;\n",
       "    }\n",
       "</style>\n",
       "<table border=\"1\" class=\"dataframe\">\n",
       "  <thead>\n",
       "    <tr style=\"text-align: right;\">\n",
       "      <th></th>\n",
       "      <th>adult</th>\n",
       "      <th>belongs_to_collection</th>\n",
       "      <th>budget</th>\n",
       "      <th>genres</th>\n",
       "      <th>homepage</th>\n",
       "      <th>id</th>\n",
       "      <th>imdb_id</th>\n",
       "      <th>original_language</th>\n",
       "      <th>original_title</th>\n",
       "      <th>overview</th>\n",
       "      <th>...</th>\n",
       "      <th>release_date</th>\n",
       "      <th>revenue</th>\n",
       "      <th>runtime</th>\n",
       "      <th>spoken_languages</th>\n",
       "      <th>status</th>\n",
       "      <th>tagline</th>\n",
       "      <th>title</th>\n",
       "      <th>video</th>\n",
       "      <th>vote_average</th>\n",
       "      <th>vote_count</th>\n",
       "    </tr>\n",
       "  </thead>\n",
       "  <tbody>\n",
       "    <tr>\n",
       "      <th>0</th>\n",
       "      <td>False</td>\n",
       "      <td>{'id': 10194, 'name': 'Toy Story Collection', ...</td>\n",
       "      <td>30000000</td>\n",
       "      <td>[{'id': 16, 'name': 'Animation'}, {'id': 35, '...</td>\n",
       "      <td>http://toystory.disney.com/toy-story</td>\n",
       "      <td>862</td>\n",
       "      <td>tt0114709</td>\n",
       "      <td>en</td>\n",
       "      <td>Toy Story</td>\n",
       "      <td>Led by Woody, Andy's toys live happily in his ...</td>\n",
       "      <td>...</td>\n",
       "      <td>1995-10-30</td>\n",
       "      <td>373554033.0</td>\n",
       "      <td>81.0</td>\n",
       "      <td>[{'iso_639_1': 'en', 'name': 'English'}]</td>\n",
       "      <td>Released</td>\n",
       "      <td>NaN</td>\n",
       "      <td>Toy Story</td>\n",
       "      <td>False</td>\n",
       "      <td>7.7</td>\n",
       "      <td>5415.0</td>\n",
       "    </tr>\n",
       "    <tr>\n",
       "      <th>1</th>\n",
       "      <td>False</td>\n",
       "      <td>NaN</td>\n",
       "      <td>65000000</td>\n",
       "      <td>[{'id': 12, 'name': 'Adventure'}, {'id': 14, '...</td>\n",
       "      <td>NaN</td>\n",
       "      <td>8844</td>\n",
       "      <td>tt0113497</td>\n",
       "      <td>en</td>\n",
       "      <td>Jumanji</td>\n",
       "      <td>When siblings Judy and Peter discover an encha...</td>\n",
       "      <td>...</td>\n",
       "      <td>1995-12-15</td>\n",
       "      <td>262797249.0</td>\n",
       "      <td>104.0</td>\n",
       "      <td>[{'iso_639_1': 'en', 'name': 'English'}, {'iso...</td>\n",
       "      <td>Released</td>\n",
       "      <td>Roll the dice and unleash the excitement!</td>\n",
       "      <td>Jumanji</td>\n",
       "      <td>False</td>\n",
       "      <td>6.9</td>\n",
       "      <td>2413.0</td>\n",
       "    </tr>\n",
       "  </tbody>\n",
       "</table>\n",
       "<p>2 rows × 24 columns</p>\n",
       "</div>"
      ],
      "text/plain": [
       "   adult                              belongs_to_collection    budget  \\\n",
       "0  False  {'id': 10194, 'name': 'Toy Story Collection', ...  30000000   \n",
       "1  False                                                NaN  65000000   \n",
       "\n",
       "                                              genres  \\\n",
       "0  [{'id': 16, 'name': 'Animation'}, {'id': 35, '...   \n",
       "1  [{'id': 12, 'name': 'Adventure'}, {'id': 14, '...   \n",
       "\n",
       "                               homepage    id    imdb_id original_language  \\\n",
       "0  http://toystory.disney.com/toy-story   862  tt0114709                en   \n",
       "1                                   NaN  8844  tt0113497                en   \n",
       "\n",
       "  original_title                                           overview  ...  \\\n",
       "0      Toy Story  Led by Woody, Andy's toys live happily in his ...  ...   \n",
       "1        Jumanji  When siblings Judy and Peter discover an encha...  ...   \n",
       "\n",
       "  release_date      revenue runtime  \\\n",
       "0   1995-10-30  373554033.0    81.0   \n",
       "1   1995-12-15  262797249.0   104.0   \n",
       "\n",
       "                                    spoken_languages    status  \\\n",
       "0           [{'iso_639_1': 'en', 'name': 'English'}]  Released   \n",
       "1  [{'iso_639_1': 'en', 'name': 'English'}, {'iso...  Released   \n",
       "\n",
       "                                     tagline      title  video vote_average  \\\n",
       "0                                        NaN  Toy Story  False          7.7   \n",
       "1  Roll the dice and unleash the excitement!    Jumanji  False          6.9   \n",
       "\n",
       "  vote_count  \n",
       "0     5415.0  \n",
       "1     2413.0  \n",
       "\n",
       "[2 rows x 24 columns]"
      ]
     },
     "execution_count": 3,
     "metadata": {},
     "output_type": "execute_result"
    }
   ],
   "source": [
    "metadata = pd.read_csv(data_path + 'movies_metadata.csv', low_memory=False)\n",
    "metadata.head(2)"
   ]
  },
  {
   "cell_type": "markdown",
   "id": "2f630bdf-415f-4b2e-bb6a-53e9b90da56d",
   "metadata": {},
   "source": [
    "## Data Preprocessing / Feature engineering"
   ]
  },
  {
   "cell_type": "code",
   "execution_count": 4,
   "id": "342269b4-51ce-411f-b83e-f27673e29cb5",
   "metadata": {},
   "outputs": [],
   "source": [
    "metadata['overview'] = metadata['overview'].fillna('')\n",
    "metadata = metadata[metadata.adult.isin(['True','False'])]\n",
    "metadata['id'] = metadata['id'].astype('int')"
   ]
  },
  {
   "cell_type": "code",
   "execution_count": 5,
   "id": "8ce95295-0e51-4ee3-ac64-507a1a3b5d40",
   "metadata": {},
   "outputs": [
    {
     "data": {
      "text/plain": [
       "0    Led by Woody, Andy's toys live happily in his ...\n",
       "1    When siblings Judy and Peter discover an encha...\n",
       "Name: overview, dtype: object"
      ]
     },
     "execution_count": 5,
     "metadata": {},
     "output_type": "execute_result"
    }
   ],
   "source": [
    "metadata['overview'].head(2)"
   ]
  },
  {
   "cell_type": "markdown",
   "id": "6445916b-43c4-405e-9f43-722cfb39c61a",
   "metadata": {},
   "source": [
    "### Text data (NLP)\n",
    "\n",
    "This is an NLP problem. We need to extract features from the `overview` feature which can be used to compute cosine similarity. This needs to be in a numeric format not raw strings.\n",
    "\n",
    "To do this, you need to compute the word vectors of each overview or document.\n",
    "\n",
    "`Term Frequency-Inverse Document Frequency` (TF-IDF) vectors for each document needs to be computed. This will create a matrix where each column represents a word in the overview vocabulary (all the words that appear in at least one document), and each column represents a movie, as before.\n",
    "\n",
    "In its essence, the TF-IDF score is the frequency of a word occurring in a document, down-weighted by the number of documents in which it occurs. This is done to reduce the importance of words that frequently occur in plot overviews and, therefore, their significance in computing the final similarity score.\n",
    "\n",
    "\n",
    "The method that we will follows is the following:\n",
    "\n",
    "* import tfidf from sklearn\n",
    "* remove stop words 'the', 'an', etc (these do not provide any information\n",
    "* replace nan with ''\n",
    "* compute TF-IDF matrix"
   ]
  },
  {
   "cell_type": "code",
   "execution_count": 6,
   "id": "990c4967-aa93-4c37-badd-8a6484dd248e",
   "metadata": {},
   "outputs": [
    {
     "data": {
      "text/plain": [
       "(45463, 75827)"
      ]
     },
     "execution_count": 6,
     "metadata": {},
     "output_type": "execute_result"
    }
   ],
   "source": [
    "tfidf = TfidfVectorizer(stop_words='english')\n",
    "tfidf_matrix = tfidf.fit_transform(metadata['overview'])\n",
    "tfidf_matrix.shape"
   ]
  },
  {
   "cell_type": "markdown",
   "id": "0710a95e-d8f5-49c8-80cf-9b85442c70f8",
   "metadata": {},
   "source": [
    "# Cosine Similarities"
   ]
  },
  {
   "cell_type": "code",
   "execution_count": 7,
   "id": "947455b9-6131-450a-a64a-71b4912bc52a",
   "metadata": {},
   "outputs": [
    {
     "data": {
      "text/plain": [
       "(45463, 45463)"
      ]
     },
     "execution_count": 7,
     "metadata": {},
     "output_type": "execute_result"
    }
   ],
   "source": [
    "cosine_sim = linear_kernel(tfidf_matrix, tfidf_matrix)\n",
    "cosine_sim.shape"
   ]
  },
  {
   "cell_type": "markdown",
   "id": "d07c058a-f6be-4a83-8640-e80f2cbc69b7",
   "metadata": {},
   "source": [
    "## TODO:\n",
    "\n",
    "* write a function that takes a movie title and returns a list of top n most similar movies\n",
    "\n",
    "\n",
    "1. get the index of the specified movie given its title\n",
    "2. get the list of cosine similarity scores for that movie\n",
    "3. convert it into a list of tuples, where elmt 0 is its position and elmt 1 is the score\n",
    "4. get top n elements of this list (ignoring the first element which will be itself)\n",
    "5. return titles of these top n movies"
   ]
  },
  {
   "cell_type": "code",
   "execution_count": 8,
   "id": "4b3c0ffa-cc51-4c5c-8bbf-a023b6d037f8",
   "metadata": {},
   "outputs": [
    {
     "data": {
      "text/plain": [
       "title\n",
       "Toy Story    0\n",
       "Jumanji      1\n",
       "dtype: int64"
      ]
     },
     "execution_count": 8,
     "metadata": {},
     "output_type": "execute_result"
    }
   ],
   "source": [
    "indices = pd.Series(metadata.index, index=metadata['title']).drop_duplicates()\n",
    "indices[:2]"
   ]
  },
  {
   "cell_type": "code",
   "execution_count": 9,
   "id": "00d2169a-6e9f-41f6-9f3d-08445824ad15",
   "metadata": {},
   "outputs": [
    {
     "data": {
      "text/plain": [
       "0"
      ]
     },
     "execution_count": 9,
     "metadata": {},
     "output_type": "execute_result"
    }
   ],
   "source": [
    "indices['Toy Story']"
   ]
  },
  {
   "cell_type": "code",
   "execution_count": 10,
   "id": "ecf127ac-da02-4e36-9114-42671ad6f2e7",
   "metadata": {},
   "outputs": [],
   "source": [
    "def get_cb_recommendations(title: str, metadata: pd.DataFrame = metadata, top_n: int = 10, cosine_sim = cosine_sim, indices_=indices):\n",
    "    idx = indices_[title]\n",
    "    \n",
    "    sim_scores = list(enumerate(cosine_sim[idx]))\n",
    "    sim_scores = sorted(sim_scores, key=lambda x: x[1], reverse=True)\n",
    "    \n",
    "    sim_scores = sim_scores[1:top_n + 1]\n",
    "    movie_indices = [i[0] for i in sim_scores]\n",
    "    \n",
    "    return metadata['title'].iloc[movie_indices]"
   ]
  },
  {
   "cell_type": "code",
   "execution_count": 11,
   "id": "492ef692-8aa9-4b72-81bf-91d670aa79a6",
   "metadata": {},
   "outputs": [
    {
     "data": {
      "text/plain": [
       "12481                                      The Dark Knight\n",
       "150                                         Batman Forever\n",
       "1328                                        Batman Returns\n",
       "15511                           Batman: Under the Red Hood\n",
       "585                                                 Batman\n",
       "21194    Batman Unmasked: The Psychology of the Dark Kn...\n",
       "9230                    Batman Beyond: Return of the Joker\n",
       "18035                                     Batman: Year One\n",
       "19792              Batman: The Dark Knight Returns, Part 1\n",
       "3095                          Batman: Mask of the Phantasm\n",
       "Name: title, dtype: object"
      ]
     },
     "execution_count": 11,
     "metadata": {},
     "output_type": "execute_result"
    }
   ],
   "source": [
    "get_cb_recommendations('The Dark Knight Rises')"
   ]
  },
  {
   "cell_type": "code",
   "execution_count": 12,
   "id": "dc197239-df3b-45e5-97b5-91b11d12c4b2",
   "metadata": {},
   "outputs": [
    {
     "data": {
      "text/plain": [
       "1178               The Godfather: Part II\n",
       "44030    The Godfather Trilogy: 1972-1990\n",
       "1914              The Godfather: Part III\n",
       "23126                          Blood Ties\n",
       "11297                    Household Saints\n",
       "34717                   Start Liquidation\n",
       "10821                            Election\n",
       "38030            A Mother Should Be Loved\n",
       "17729                   Short Sharp Shock\n",
       "26293                  Beck 28 - Familjen\n",
       "Name: title, dtype: object"
      ]
     },
     "execution_count": 12,
     "metadata": {},
     "output_type": "execute_result"
    }
   ],
   "source": [
    "get_cb_recommendations('The Godfather')"
   ]
  },
  {
   "cell_type": "markdown",
   "id": "222419f5-9982-4ef2-ba3b-0332cee5cdb3",
   "metadata": {},
   "source": [
    "## Import Libraries"
   ]
  },
  {
   "cell_type": "code",
   "execution_count": 13,
   "id": "ddadeeb0-df29-4760-9d74-84bb5de1fdf5",
   "metadata": {},
   "outputs": [],
   "source": [
    "from ast import literal_eval\n",
    "from sklearn.feature_extraction.text import CountVectorizer\n",
    "from sklearn.metrics.pairwise import cosine_similarity"
   ]
  },
  {
   "cell_type": "markdown",
   "id": "e63db432-d4e2-4082-8ad8-f98adb25b23d",
   "metadata": {
    "tags": []
   },
   "source": [
    "## Idea 2: Cast, Crew, Genres, Keywords based recommender"
   ]
  },
  {
   "cell_type": "code",
   "execution_count": 14,
   "id": "1204ccdb-af6a-47be-9498-9fe054012168",
   "metadata": {},
   "outputs": [],
   "source": [
    "credits = pd.read_csv(data_path + 'credits.csv')\n",
    "keywords = pd.read_csv(data_path + 'keywords.csv')"
   ]
  },
  {
   "cell_type": "code",
   "execution_count": 15,
   "id": "55fa2f97-7617-427c-a9bd-81355426664a",
   "metadata": {},
   "outputs": [
    {
     "name": "stdout",
     "output_type": "stream",
     "text": [
      "<class 'pandas.core.frame.DataFrame'>\n",
      "RangeIndex: 46419 entries, 0 to 46418\n",
      "Data columns (total 2 columns):\n",
      " #   Column    Non-Null Count  Dtype \n",
      "---  ------    --------------  ----- \n",
      " 0   id        46419 non-null  int64 \n",
      " 1   keywords  46419 non-null  object\n",
      "dtypes: int64(1), object(1)\n",
      "memory usage: 725.4+ KB\n"
     ]
    }
   ],
   "source": [
    "keywords.info()"
   ]
  },
  {
   "cell_type": "code",
   "execution_count": 16,
   "id": "87612aae-fea9-443c-a85d-131ad511e0f1",
   "metadata": {},
   "outputs": [],
   "source": [
    "metadata = metadata.merge(credits, on='id')\n",
    "metadata = metadata.merge(keywords, on='id')"
   ]
  },
  {
   "cell_type": "markdown",
   "id": "1ea822d3-92cd-43f8-899e-e317f6c978e9",
   "metadata": {},
   "source": [
    "## Data Preprocessing / Feature engineering\n",
    "\n",
    "* Parse the stringified features into their corresponding python objects\n",
    "* define function which extracts director from crew feature\n",
    "* define function which creates a clean list of objects from list of dictionary features\n",
    "* convert new clean string features to lower case and remove whitespace (Removing the spaces between words is an important preprocessing step. It is done so that your vectorizer doesn't count the Johnny of \"Johnny Depp\" and \"Johnny Galecki\" as the same)\n",
    "* the new clean features will the be concatenated into a single string feature \"metadata soup\"\n"
   ]
  },
  {
   "cell_type": "code",
   "execution_count": 17,
   "id": "6f00c703-d3bd-4757-ab21-acb9b5d4ff95",
   "metadata": {},
   "outputs": [],
   "source": [
    "features = ['cast', 'crew', 'keywords', 'genres']\n",
    "\n",
    "for feature in features:\n",
    "    metadata[feature] = metadata[feature].apply(literal_eval)"
   ]
  },
  {
   "cell_type": "code",
   "execution_count": 18,
   "id": "c0d73090-6d08-42b9-8af2-fcae01712299",
   "metadata": {},
   "outputs": [],
   "source": [
    "def get_director(x: list) -> str:\n",
    "    for i in x:\n",
    "        if i.get('job') == 'Director':\n",
    "            return i.get('name')\n",
    "    return np.nan\n",
    "\n",
    "\n",
    "def get_clean_list(x: list, top_n: int = 3) -> list:\n",
    "    \n",
    "    if isinstance(x, list):\n",
    "        names = [i['name'] for i in x]\n",
    "        \n",
    "        if (top_n) & (len(names) > top_n):\n",
    "            names = names[:top_n]\n",
    "        \n",
    "        return names\n",
    "    return []"
   ]
  },
  {
   "cell_type": "code",
   "execution_count": 19,
   "id": "d61b19ca-76ee-4024-b603-db9cb0706118",
   "metadata": {},
   "outputs": [],
   "source": [
    "# Extract director feature and process cast, genres and keywords features\n",
    "\n",
    "metadata['director'] = metadata['crew'].apply(get_director)\n",
    "\n",
    "features = ['cast', 'keywords', 'genres']\n",
    "\n",
    "for feature in features:\n",
    "    metadata[feature] = metadata[feature].apply(get_clean_list)"
   ]
  },
  {
   "cell_type": "code",
   "execution_count": 20,
   "id": "0a33ebf9-f129-4523-aae7-3c7ad5f979c3",
   "metadata": {},
   "outputs": [
    {
     "data": {
      "text/html": [
       "<div>\n",
       "<style scoped>\n",
       "    .dataframe tbody tr th:only-of-type {\n",
       "        vertical-align: middle;\n",
       "    }\n",
       "\n",
       "    .dataframe tbody tr th {\n",
       "        vertical-align: top;\n",
       "    }\n",
       "\n",
       "    .dataframe thead th {\n",
       "        text-align: right;\n",
       "    }\n",
       "</style>\n",
       "<table border=\"1\" class=\"dataframe\">\n",
       "  <thead>\n",
       "    <tr style=\"text-align: right;\">\n",
       "      <th></th>\n",
       "      <th>title</th>\n",
       "      <th>cast</th>\n",
       "      <th>director</th>\n",
       "      <th>keywords</th>\n",
       "      <th>genres</th>\n",
       "    </tr>\n",
       "  </thead>\n",
       "  <tbody>\n",
       "    <tr>\n",
       "      <th>0</th>\n",
       "      <td>Toy Story</td>\n",
       "      <td>[Tom Hanks, Tim Allen, Don Rickles]</td>\n",
       "      <td>John Lasseter</td>\n",
       "      <td>[jealousy, toy, boy]</td>\n",
       "      <td>[Animation, Comedy, Family]</td>\n",
       "    </tr>\n",
       "    <tr>\n",
       "      <th>1</th>\n",
       "      <td>Jumanji</td>\n",
       "      <td>[Robin Williams, Jonathan Hyde, Kirsten Dunst]</td>\n",
       "      <td>Joe Johnston</td>\n",
       "      <td>[board game, disappearance, based on children'...</td>\n",
       "      <td>[Adventure, Fantasy, Family]</td>\n",
       "    </tr>\n",
       "    <tr>\n",
       "      <th>2</th>\n",
       "      <td>Grumpier Old Men</td>\n",
       "      <td>[Walter Matthau, Jack Lemmon, Ann-Margret]</td>\n",
       "      <td>Howard Deutch</td>\n",
       "      <td>[fishing, best friend, duringcreditsstinger]</td>\n",
       "      <td>[Romance, Comedy]</td>\n",
       "    </tr>\n",
       "  </tbody>\n",
       "</table>\n",
       "</div>"
      ],
      "text/plain": [
       "              title                                            cast  \\\n",
       "0         Toy Story             [Tom Hanks, Tim Allen, Don Rickles]   \n",
       "1           Jumanji  [Robin Williams, Jonathan Hyde, Kirsten Dunst]   \n",
       "2  Grumpier Old Men      [Walter Matthau, Jack Lemmon, Ann-Margret]   \n",
       "\n",
       "        director                                           keywords  \\\n",
       "0  John Lasseter                               [jealousy, toy, boy]   \n",
       "1   Joe Johnston  [board game, disappearance, based on children'...   \n",
       "2  Howard Deutch       [fishing, best friend, duringcreditsstinger]   \n",
       "\n",
       "                         genres  \n",
       "0   [Animation, Comedy, Family]  \n",
       "1  [Adventure, Fantasy, Family]  \n",
       "2             [Romance, Comedy]  "
      ]
     },
     "execution_count": 20,
     "metadata": {},
     "output_type": "execute_result"
    }
   ],
   "source": [
    "metadata[['title', 'cast', 'director', 'keywords', 'genres']].head(3)"
   ]
  },
  {
   "cell_type": "code",
   "execution_count": 21,
   "id": "5f846399-4964-46df-b3de-dded6240e729",
   "metadata": {},
   "outputs": [],
   "source": [
    "def clean_string_features(x: list):\n",
    "    \n",
    "    if isinstance(x, list):\n",
    "        return [str.lower(i.replace(\" \", \"\")) for i in x]\n",
    "    else:\n",
    "        \n",
    "        if isinstance(x, str):\n",
    "            return str.lower(x.replace(\" \", \"\"))\n",
    "        \n",
    "        else:\n",
    "            return ''"
   ]
  },
  {
   "cell_type": "code",
   "execution_count": 22,
   "id": "51925861-b2a0-43ef-a6be-b8dcf4b486cc",
   "metadata": {},
   "outputs": [],
   "source": [
    "features = ['cast', 'keywords', 'director', 'genres']\n",
    "\n",
    "for feature in features:\n",
    "    metadata[feature] = metadata[feature].apply(clean_string_features)"
   ]
  },
  {
   "cell_type": "code",
   "execution_count": 23,
   "id": "43a97b21-074e-46f3-88fd-1b197f97edb8",
   "metadata": {},
   "outputs": [
    {
     "data": {
      "text/html": [
       "<div>\n",
       "<style scoped>\n",
       "    .dataframe tbody tr th:only-of-type {\n",
       "        vertical-align: middle;\n",
       "    }\n",
       "\n",
       "    .dataframe tbody tr th {\n",
       "        vertical-align: top;\n",
       "    }\n",
       "\n",
       "    .dataframe thead th {\n",
       "        text-align: right;\n",
       "    }\n",
       "</style>\n",
       "<table border=\"1\" class=\"dataframe\">\n",
       "  <thead>\n",
       "    <tr style=\"text-align: right;\">\n",
       "      <th></th>\n",
       "      <th>title</th>\n",
       "      <th>cast</th>\n",
       "      <th>director</th>\n",
       "      <th>keywords</th>\n",
       "      <th>genres</th>\n",
       "    </tr>\n",
       "  </thead>\n",
       "  <tbody>\n",
       "    <tr>\n",
       "      <th>0</th>\n",
       "      <td>Toy Story</td>\n",
       "      <td>[tomhanks, timallen, donrickles]</td>\n",
       "      <td>johnlasseter</td>\n",
       "      <td>[jealousy, toy, boy]</td>\n",
       "      <td>[animation, comedy, family]</td>\n",
       "    </tr>\n",
       "    <tr>\n",
       "      <th>1</th>\n",
       "      <td>Jumanji</td>\n",
       "      <td>[robinwilliams, jonathanhyde, kirstendunst]</td>\n",
       "      <td>joejohnston</td>\n",
       "      <td>[boardgame, disappearance, basedonchildren'sbook]</td>\n",
       "      <td>[adventure, fantasy, family]</td>\n",
       "    </tr>\n",
       "    <tr>\n",
       "      <th>2</th>\n",
       "      <td>Grumpier Old Men</td>\n",
       "      <td>[waltermatthau, jacklemmon, ann-margret]</td>\n",
       "      <td>howarddeutch</td>\n",
       "      <td>[fishing, bestfriend, duringcreditsstinger]</td>\n",
       "      <td>[romance, comedy]</td>\n",
       "    </tr>\n",
       "  </tbody>\n",
       "</table>\n",
       "</div>"
      ],
      "text/plain": [
       "              title                                         cast  \\\n",
       "0         Toy Story             [tomhanks, timallen, donrickles]   \n",
       "1           Jumanji  [robinwilliams, jonathanhyde, kirstendunst]   \n",
       "2  Grumpier Old Men     [waltermatthau, jacklemmon, ann-margret]   \n",
       "\n",
       "       director                                           keywords  \\\n",
       "0  johnlasseter                               [jealousy, toy, boy]   \n",
       "1   joejohnston  [boardgame, disappearance, basedonchildren'sbook]   \n",
       "2  howarddeutch        [fishing, bestfriend, duringcreditsstinger]   \n",
       "\n",
       "                         genres  \n",
       "0   [animation, comedy, family]  \n",
       "1  [adventure, fantasy, family]  \n",
       "2             [romance, comedy]  "
      ]
     },
     "execution_count": 23,
     "metadata": {},
     "output_type": "execute_result"
    }
   ],
   "source": [
    "metadata[['title', 'cast', 'director', 'keywords', 'genres']].head(3)"
   ]
  },
  {
   "cell_type": "code",
   "execution_count": 24,
   "id": "3e0106d5-21f2-4410-b3a1-c6b7a0d5d768",
   "metadata": {},
   "outputs": [],
   "source": [
    "def create_metadata_soup(x):\n",
    "    return ' '.join(x['keywords']) + ' ' + ' '.join(x['cast']) + ' ' + ' '.join(x['director']) + ' ' + ' '.join(x['genres']) + ' '\n"
   ]
  },
  {
   "cell_type": "code",
   "execution_count": 25,
   "id": "0b93042c-95de-4992-8476-b662e8528f96",
   "metadata": {},
   "outputs": [],
   "source": [
    "metadata['soup'] = metadata.apply(create_metadata_soup, axis=1)"
   ]
  },
  {
   "cell_type": "code",
   "execution_count": 26,
   "id": "9c742113-ddf1-4b36-9ad1-d66368cb048d",
   "metadata": {},
   "outputs": [
    {
     "data": {
      "text/html": [
       "<div>\n",
       "<style scoped>\n",
       "    .dataframe tbody tr th:only-of-type {\n",
       "        vertical-align: middle;\n",
       "    }\n",
       "\n",
       "    .dataframe tbody tr th {\n",
       "        vertical-align: top;\n",
       "    }\n",
       "\n",
       "    .dataframe thead th {\n",
       "        text-align: right;\n",
       "    }\n",
       "</style>\n",
       "<table border=\"1\" class=\"dataframe\">\n",
       "  <thead>\n",
       "    <tr style=\"text-align: right;\">\n",
       "      <th></th>\n",
       "      <th>soup</th>\n",
       "      <th>title</th>\n",
       "      <th>cast</th>\n",
       "      <th>director</th>\n",
       "      <th>keywords</th>\n",
       "      <th>genres</th>\n",
       "    </tr>\n",
       "  </thead>\n",
       "  <tbody>\n",
       "    <tr>\n",
       "      <th>0</th>\n",
       "      <td>jealousy toy boy tomhanks timallen donrickles ...</td>\n",
       "      <td>Toy Story</td>\n",
       "      <td>[tomhanks, timallen, donrickles]</td>\n",
       "      <td>johnlasseter</td>\n",
       "      <td>[jealousy, toy, boy]</td>\n",
       "      <td>[animation, comedy, family]</td>\n",
       "    </tr>\n",
       "    <tr>\n",
       "      <th>1</th>\n",
       "      <td>boardgame disappearance basedonchildren'sbook ...</td>\n",
       "      <td>Jumanji</td>\n",
       "      <td>[robinwilliams, jonathanhyde, kirstendunst]</td>\n",
       "      <td>joejohnston</td>\n",
       "      <td>[boardgame, disappearance, basedonchildren'sbook]</td>\n",
       "      <td>[adventure, fantasy, family]</td>\n",
       "    </tr>\n",
       "    <tr>\n",
       "      <th>2</th>\n",
       "      <td>fishing bestfriend duringcreditsstinger walter...</td>\n",
       "      <td>Grumpier Old Men</td>\n",
       "      <td>[waltermatthau, jacklemmon, ann-margret]</td>\n",
       "      <td>howarddeutch</td>\n",
       "      <td>[fishing, bestfriend, duringcreditsstinger]</td>\n",
       "      <td>[romance, comedy]</td>\n",
       "    </tr>\n",
       "  </tbody>\n",
       "</table>\n",
       "</div>"
      ],
      "text/plain": [
       "                                                soup             title  \\\n",
       "0  jealousy toy boy tomhanks timallen donrickles ...         Toy Story   \n",
       "1  boardgame disappearance basedonchildren'sbook ...           Jumanji   \n",
       "2  fishing bestfriend duringcreditsstinger walter...  Grumpier Old Men   \n",
       "\n",
       "                                          cast      director  \\\n",
       "0             [tomhanks, timallen, donrickles]  johnlasseter   \n",
       "1  [robinwilliams, jonathanhyde, kirstendunst]   joejohnston   \n",
       "2     [waltermatthau, jacklemmon, ann-margret]  howarddeutch   \n",
       "\n",
       "                                            keywords  \\\n",
       "0                               [jealousy, toy, boy]   \n",
       "1  [boardgame, disappearance, basedonchildren'sbook]   \n",
       "2        [fishing, bestfriend, duringcreditsstinger]   \n",
       "\n",
       "                         genres  \n",
       "0   [animation, comedy, family]  \n",
       "1  [adventure, fantasy, family]  \n",
       "2             [romance, comedy]  "
      ]
     },
     "execution_count": 26,
     "metadata": {},
     "output_type": "execute_result"
    }
   ],
   "source": [
    "metadata[['soup','title', 'cast', 'director', 'keywords', 'genres']].head(3)"
   ]
  },
  {
   "cell_type": "markdown",
   "id": "3f7471f3-762c-40e2-8d0a-d63a52ddbadd",
   "metadata": {},
   "source": [
    "### Note\n",
    "\n",
    "Next step is very close to what we did before to solve the NLP problem. The main difference is that here we will be using `CountVectorizer` instead of `TF-IDF`. The reason is that you do not want to down-weight the actor/director's presence if he or she has acted or directed in relatively more movies. It doesn't make much intuitive sense to down-weight them in this context.\n",
    "\n",
    "The main difference between `CountVectorizer` and `TF-IDF` is the inverse document frequency (IDF) component which is only present in `TF-IDF`."
   ]
  },
  {
   "cell_type": "code",
   "execution_count": 27,
   "id": "05232264-a34b-45b1-9586-bb4097a5677b",
   "metadata": {},
   "outputs": [
    {
     "data": {
      "text/plain": [
       "(46628, 58204)"
      ]
     },
     "execution_count": 27,
     "metadata": {},
     "output_type": "execute_result"
    }
   ],
   "source": [
    "count = CountVectorizer(stop_words='english')\n",
    "count_matrix = count.fit_transform(metadata['soup'])\n",
    "count_matrix.shape"
   ]
  },
  {
   "cell_type": "code",
   "execution_count": 28,
   "id": "b31a1eb9-8d96-47f5-9f96-2862ca5e0380",
   "metadata": {},
   "outputs": [],
   "source": [
    "cosine_count_sim = cosine_similarity(count_matrix, count_matrix)"
   ]
  },
  {
   "cell_type": "code",
   "execution_count": 32,
   "id": "eb3b638e-443e-4b5f-b3b5-fbf1929a959b",
   "metadata": {},
   "outputs": [],
   "source": [
    "# Reset index of your main DataFrame and construct reverse mapping as before\n",
    "metadata = metadata.reset_index()\n",
    "indices = pd.Series(metadata.index, index=metadata['title'])"
   ]
  },
  {
   "cell_type": "code",
   "execution_count": 33,
   "id": "5e3062bb-76ca-4384-9a2a-7dae1b5ca58a",
   "metadata": {},
   "outputs": [],
   "source": [
    "def get_cb_recommendations1(title: str, metadata: pd.DataFrame = metadata, top_n: int = 10, cosine_sim = cosine_sim, indices_=indices):\n",
    "    idx = indices_[title]\n",
    "    \n",
    "    sim_scores = list(enumerate(cosine_sim[idx]))\n",
    "    sim_scores = sorted(sim_scores, key=lambda x: x[1], reverse=True)\n",
    "    \n",
    "    sim_scores = sim_scores[1:top_n + 1]\n",
    "    movie_indices = [i[0] for i in sim_scores]\n",
    "    \n",
    "    return metadata['title'].iloc[movie_indices]"
   ]
  },
  {
   "cell_type": "code",
   "execution_count": 37,
   "id": "e4d15e81-c510-4663-a9bb-f4696d361494",
   "metadata": {},
   "outputs": [
    {
     "data": {
      "text/plain": [
       "12589           The Dark Knight\n",
       "10210             Batman Begins\n",
       "9311                     Shiner\n",
       "9874            Amongst Friends\n",
       "7772                   Mitchell\n",
       "35802    Manuscripts Don't Burn\n",
       "35803    Manuscripts Don't Burn\n",
       "41063                      Sara\n",
       "516           Romeo Is Bleeding\n",
       "24090                 Quicksand\n",
       "Name: title, dtype: object"
      ]
     },
     "execution_count": 37,
     "metadata": {},
     "output_type": "execute_result"
    }
   ],
   "source": [
    "bat = get_cb_recommendations1('The Dark Knight Rises', cosine_sim=cosine_count_sim, indices_=indices)\n",
    "bat"
   ]
  },
  {
   "cell_type": "code",
   "execution_count": 36,
   "id": "d2c14950-db23-46ce-afd4-5f8a4c4968f3",
   "metadata": {},
   "outputs": [
    {
     "data": {
      "text/plain": [
       "35802            Manuscripts Don't Burn\n",
       "35803            Manuscripts Don't Burn\n",
       "1934            The Godfather: Part III\n",
       "8001     The Night of the Following Day\n",
       "18261                 The Son of No One\n",
       "28683            In the Name of the Law\n",
       "39193                 The Good Neighbor\n",
       "7772                           Mitchell\n",
       "18940                         Last Exit\n",
       "34488                              Rege\n",
       "Name: title, dtype: object"
      ]
     },
     "execution_count": 36,
     "metadata": {},
     "output_type": "execute_result"
    }
   ],
   "source": [
    "get_cb_recommendations1('The Godfather', cosine_sim=cosine_count_sim, indices_=indices)"
   ]
  },
  {
   "cell_type": "code",
   "execution_count": 41,
   "id": "40b0674c-b512-4a4e-b2e8-5d395d8e9ce4",
   "metadata": {},
   "outputs": [
    {
     "data": {
      "text/html": [
       "<div>\n",
       "<style scoped>\n",
       "    .dataframe tbody tr th:only-of-type {\n",
       "        vertical-align: middle;\n",
       "    }\n",
       "\n",
       "    .dataframe tbody tr th {\n",
       "        vertical-align: top;\n",
       "    }\n",
       "\n",
       "    .dataframe thead th {\n",
       "        text-align: right;\n",
       "    }\n",
       "</style>\n",
       "<table border=\"1\" class=\"dataframe\">\n",
       "  <thead>\n",
       "    <tr style=\"text-align: right;\">\n",
       "      <th></th>\n",
       "      <th>level_0</th>\n",
       "      <th>index</th>\n",
       "      <th>adult</th>\n",
       "      <th>belongs_to_collection</th>\n",
       "      <th>budget</th>\n",
       "      <th>genres</th>\n",
       "      <th>homepage</th>\n",
       "      <th>id</th>\n",
       "      <th>imdb_id</th>\n",
       "      <th>original_language</th>\n",
       "      <th>...</th>\n",
       "      <th>tagline</th>\n",
       "      <th>title</th>\n",
       "      <th>video</th>\n",
       "      <th>vote_average</th>\n",
       "      <th>vote_count</th>\n",
       "      <th>cast</th>\n",
       "      <th>crew</th>\n",
       "      <th>keywords</th>\n",
       "      <th>director</th>\n",
       "      <th>soup</th>\n",
       "    </tr>\n",
       "  </thead>\n",
       "  <tbody>\n",
       "    <tr>\n",
       "      <th>516</th>\n",
       "      <td>516</td>\n",
       "      <td>516</td>\n",
       "      <td>False</td>\n",
       "      <td>NaN</td>\n",
       "      <td>11500000</td>\n",
       "      <td>[action, crime, drama]</td>\n",
       "      <td>NaN</td>\n",
       "      <td>2088</td>\n",
       "      <td>tt0107983</td>\n",
       "      <td>en</td>\n",
       "      <td>...</td>\n",
       "      <td>The story of a cop who wanted it bad and got i...</td>\n",
       "      <td>Romeo Is Bleeding</td>\n",
       "      <td>False</td>\n",
       "      <td>5.7</td>\n",
       "      <td>36.0</td>\n",
       "      <td>[garyoldman, lenaolin, annabellasciorra]</td>\n",
       "      <td>[{'credit_id': '52fe4334c3a36847f80422d1', 'de...</td>\n",
       "      <td>[policeoperation, sexaddiction, police]</td>\n",
       "      <td>petermedak</td>\n",
       "      <td>policeoperation sexaddiction police garyoldman...</td>\n",
       "    </tr>\n",
       "    <tr>\n",
       "      <th>7772</th>\n",
       "      <td>7772</td>\n",
       "      <td>7772</td>\n",
       "      <td>False</td>\n",
       "      <td>NaN</td>\n",
       "      <td>0</td>\n",
       "      <td>[crime, drama, action]</td>\n",
       "      <td>NaN</td>\n",
       "      <td>32303</td>\n",
       "      <td>tt0073396</td>\n",
       "      <td>en</td>\n",
       "      <td>...</td>\n",
       "      <td>Brute Force With a Badge</td>\n",
       "      <td>Mitchell</td>\n",
       "      <td>False</td>\n",
       "      <td>4.4</td>\n",
       "      <td>15.0</td>\n",
       "      <td>[joedonbaker, martinbalsam, johnsaxon]</td>\n",
       "      <td>[{'credit_id': '52fe44cb9251416c9101d24b', 'de...</td>\n",
       "      <td>[drama, crime]</td>\n",
       "      <td>andrewv.mclaglen</td>\n",
       "      <td>drama crime joedonbaker martinbalsam johnsaxon...</td>\n",
       "    </tr>\n",
       "    <tr>\n",
       "      <th>9311</th>\n",
       "      <td>9311</td>\n",
       "      <td>9311</td>\n",
       "      <td>False</td>\n",
       "      <td>NaN</td>\n",
       "      <td>0</td>\n",
       "      <td>[drama, action, crime]</td>\n",
       "      <td>NaN</td>\n",
       "      <td>28943</td>\n",
       "      <td>tt0232632</td>\n",
       "      <td>en</td>\n",
       "      <td>...</td>\n",
       "      <td>NaN</td>\n",
       "      <td>Shiner</td>\n",
       "      <td>False</td>\n",
       "      <td>5.1</td>\n",
       "      <td>10.0</td>\n",
       "      <td>[michaelcaine, martinlandau, andyserkis]</td>\n",
       "      <td>[{'credit_id': '52fe45bdc3a368484e06c373', 'de...</td>\n",
       "      <td>[]</td>\n",
       "      <td>johnirvin</td>\n",
       "      <td>michaelcaine martinlandau andyserkis j o h n ...</td>\n",
       "    </tr>\n",
       "    <tr>\n",
       "      <th>9874</th>\n",
       "      <td>9874</td>\n",
       "      <td>9874</td>\n",
       "      <td>False</td>\n",
       "      <td>NaN</td>\n",
       "      <td>0</td>\n",
       "      <td>[crime, drama, action]</td>\n",
       "      <td>NaN</td>\n",
       "      <td>77041</td>\n",
       "      <td>tt0106264</td>\n",
       "      <td>en</td>\n",
       "      <td>...</td>\n",
       "      <td>When Crime is a Way of Life, You Never Know if...</td>\n",
       "      <td>Amongst Friends</td>\n",
       "      <td>False</td>\n",
       "      <td>4.3</td>\n",
       "      <td>3.0</td>\n",
       "      <td>[mirasorvino]</td>\n",
       "      <td>[{'credit_id': '52fe4958c3a368484e126cff', 'de...</td>\n",
       "      <td>[]</td>\n",
       "      <td>robweiss</td>\n",
       "      <td>mirasorvino r o b w e i s s crime drama action</td>\n",
       "    </tr>\n",
       "    <tr>\n",
       "      <th>10210</th>\n",
       "      <td>10210</td>\n",
       "      <td>10210</td>\n",
       "      <td>False</td>\n",
       "      <td>{'id': 263, 'name': 'The Dark Knight Collectio...</td>\n",
       "      <td>150000000</td>\n",
       "      <td>[action, crime, drama]</td>\n",
       "      <td>http://www2.warnerbros.com/batmanbegins/index....</td>\n",
       "      <td>272</td>\n",
       "      <td>tt0372784</td>\n",
       "      <td>en</td>\n",
       "      <td>...</td>\n",
       "      <td>Evil fears the knight.</td>\n",
       "      <td>Batman Begins</td>\n",
       "      <td>False</td>\n",
       "      <td>7.5</td>\n",
       "      <td>7511.0</td>\n",
       "      <td>[christianbale, michaelcaine, liamneeson]</td>\n",
       "      <td>[{'credit_id': '52fe4230c3a36847f800ac6d', 'de...</td>\n",
       "      <td>[himalaya, martialarts, dccomics]</td>\n",
       "      <td>christophernolan</td>\n",
       "      <td>himalaya martialarts dccomics christianbale mi...</td>\n",
       "    </tr>\n",
       "    <tr>\n",
       "      <th>12589</th>\n",
       "      <td>12589</td>\n",
       "      <td>12589</td>\n",
       "      <td>False</td>\n",
       "      <td>{'id': 263, 'name': 'The Dark Knight Collectio...</td>\n",
       "      <td>185000000</td>\n",
       "      <td>[drama, action, crime]</td>\n",
       "      <td>http://thedarkknight.warnerbros.com/dvdsite/</td>\n",
       "      <td>155</td>\n",
       "      <td>tt0468569</td>\n",
       "      <td>en</td>\n",
       "      <td>...</td>\n",
       "      <td>Why So Serious?</td>\n",
       "      <td>The Dark Knight</td>\n",
       "      <td>False</td>\n",
       "      <td>8.3</td>\n",
       "      <td>12269.0</td>\n",
       "      <td>[christianbale, michaelcaine, heathledger]</td>\n",
       "      <td>[{'credit_id': '55a0eb4a925141296b0010f8', 'de...</td>\n",
       "      <td>[dccomics, crimefighter, secretidentity]</td>\n",
       "      <td>christophernolan</td>\n",
       "      <td>dccomics crimefighter secretidentity christian...</td>\n",
       "    </tr>\n",
       "    <tr>\n",
       "      <th>24090</th>\n",
       "      <td>24090</td>\n",
       "      <td>24090</td>\n",
       "      <td>False</td>\n",
       "      <td>NaN</td>\n",
       "      <td>0</td>\n",
       "      <td>[action, crime, drama]</td>\n",
       "      <td>NaN</td>\n",
       "      <td>47517</td>\n",
       "      <td>tt0271136</td>\n",
       "      <td>en</td>\n",
       "      <td>...</td>\n",
       "      <td>He's running for his life and running out of t...</td>\n",
       "      <td>Quicksand</td>\n",
       "      <td>False</td>\n",
       "      <td>5.9</td>\n",
       "      <td>10.0</td>\n",
       "      <td>[michaelkeaton, michaelcaine, judithgodrèche]</td>\n",
       "      <td>[{'credit_id': '52fe4737c3a36847f81297df', 'de...</td>\n",
       "      <td>[massage, limousine, executioner]</td>\n",
       "      <td>johnmackenzie</td>\n",
       "      <td>massage limousine executioner michaelkeaton mi...</td>\n",
       "    </tr>\n",
       "    <tr>\n",
       "      <th>28914</th>\n",
       "      <td>28914</td>\n",
       "      <td>28914</td>\n",
       "      <td>False</td>\n",
       "      <td>NaN</td>\n",
       "      <td>0</td>\n",
       "      <td>[action, crime, drama]</td>\n",
       "      <td>NaN</td>\n",
       "      <td>72003</td>\n",
       "      <td>tt2258647</td>\n",
       "      <td>en</td>\n",
       "      <td>...</td>\n",
       "      <td>NaN</td>\n",
       "      <td>The Dark Knight</td>\n",
       "      <td>False</td>\n",
       "      <td>6.3</td>\n",
       "      <td>2.0</td>\n",
       "      <td>[kylewalsh, aaronfarb, debralopez]</td>\n",
       "      <td>[{'credit_id': '52fe4852c3a368484e0f2eed', 'de...</td>\n",
       "      <td>[]</td>\n",
       "      <td>drewmaxwell</td>\n",
       "      <td>kylewalsh aaronfarb debralopez d r e w m a x ...</td>\n",
       "    </tr>\n",
       "    <tr>\n",
       "      <th>35802</th>\n",
       "      <td>35802</td>\n",
       "      <td>35802</td>\n",
       "      <td>False</td>\n",
       "      <td>NaN</td>\n",
       "      <td>0</td>\n",
       "      <td>[crime, drama]</td>\n",
       "      <td>NaN</td>\n",
       "      <td>191731</td>\n",
       "      <td>tt2912144</td>\n",
       "      <td>fa</td>\n",
       "      <td>...</td>\n",
       "      <td>NaN</td>\n",
       "      <td>Manuscripts Don't Burn</td>\n",
       "      <td>False</td>\n",
       "      <td>6.1</td>\n",
       "      <td>8.0</td>\n",
       "      <td>[]</td>\n",
       "      <td>[{'credit_id': '52fe4c909251416c910f8ea5', 'de...</td>\n",
       "      <td>[]</td>\n",
       "      <td>mohammadrasoulof</td>\n",
       "      <td>m o h a m m a d r a s o u l o f crime drama</td>\n",
       "    </tr>\n",
       "    <tr>\n",
       "      <th>35803</th>\n",
       "      <td>35803</td>\n",
       "      <td>35803</td>\n",
       "      <td>False</td>\n",
       "      <td>NaN</td>\n",
       "      <td>0</td>\n",
       "      <td>[crime, drama]</td>\n",
       "      <td>NaN</td>\n",
       "      <td>191731</td>\n",
       "      <td>tt2912144</td>\n",
       "      <td>fa</td>\n",
       "      <td>...</td>\n",
       "      <td>NaN</td>\n",
       "      <td>Manuscripts Don't Burn</td>\n",
       "      <td>False</td>\n",
       "      <td>6.1</td>\n",
       "      <td>8.0</td>\n",
       "      <td>[]</td>\n",
       "      <td>[{'credit_id': '52fe4c909251416c910f8ea5', 'de...</td>\n",
       "      <td>[]</td>\n",
       "      <td>mohammadrasoulof</td>\n",
       "      <td>m o h a m m a d r a s o u l o f crime drama</td>\n",
       "    </tr>\n",
       "    <tr>\n",
       "      <th>41063</th>\n",
       "      <td>41063</td>\n",
       "      <td>41063</td>\n",
       "      <td>False</td>\n",
       "      <td>NaN</td>\n",
       "      <td>835000</td>\n",
       "      <td>[drama, action, crime]</td>\n",
       "      <td>NaN</td>\n",
       "      <td>61999</td>\n",
       "      <td>tt0120066</td>\n",
       "      <td>en</td>\n",
       "      <td>...</td>\n",
       "      <td>NaN</td>\n",
       "      <td>Sara</td>\n",
       "      <td>False</td>\n",
       "      <td>7.0</td>\n",
       "      <td>12.0</td>\n",
       "      <td>[bogusławlinda, agnieszkawłodarczyk]</td>\n",
       "      <td>[{'credit_id': '52fe466dc3a368484e09032d', 'de...</td>\n",
       "      <td>[]</td>\n",
       "      <td>maciejslesicki</td>\n",
       "      <td>bogusławlinda agnieszkawłodarczyk m a c i e j...</td>\n",
       "    </tr>\n",
       "  </tbody>\n",
       "</table>\n",
       "<p>11 rows × 31 columns</p>\n",
       "</div>"
      ],
      "text/plain": [
       "       level_0  index  adult  \\\n",
       "516        516    516  False   \n",
       "7772      7772   7772  False   \n",
       "9311      9311   9311  False   \n",
       "9874      9874   9874  False   \n",
       "10210    10210  10210  False   \n",
       "12589    12589  12589  False   \n",
       "24090    24090  24090  False   \n",
       "28914    28914  28914  False   \n",
       "35802    35802  35802  False   \n",
       "35803    35803  35803  False   \n",
       "41063    41063  41063  False   \n",
       "\n",
       "                                   belongs_to_collection     budget  \\\n",
       "516                                                  NaN   11500000   \n",
       "7772                                                 NaN          0   \n",
       "9311                                                 NaN          0   \n",
       "9874                                                 NaN          0   \n",
       "10210  {'id': 263, 'name': 'The Dark Knight Collectio...  150000000   \n",
       "12589  {'id': 263, 'name': 'The Dark Knight Collectio...  185000000   \n",
       "24090                                                NaN          0   \n",
       "28914                                                NaN          0   \n",
       "35802                                                NaN          0   \n",
       "35803                                                NaN          0   \n",
       "41063                                                NaN     835000   \n",
       "\n",
       "                       genres  \\\n",
       "516    [action, crime, drama]   \n",
       "7772   [crime, drama, action]   \n",
       "9311   [drama, action, crime]   \n",
       "9874   [crime, drama, action]   \n",
       "10210  [action, crime, drama]   \n",
       "12589  [drama, action, crime]   \n",
       "24090  [action, crime, drama]   \n",
       "28914  [action, crime, drama]   \n",
       "35802          [crime, drama]   \n",
       "35803          [crime, drama]   \n",
       "41063  [drama, action, crime]   \n",
       "\n",
       "                                                homepage      id    imdb_id  \\\n",
       "516                                                  NaN    2088  tt0107983   \n",
       "7772                                                 NaN   32303  tt0073396   \n",
       "9311                                                 NaN   28943  tt0232632   \n",
       "9874                                                 NaN   77041  tt0106264   \n",
       "10210  http://www2.warnerbros.com/batmanbegins/index....     272  tt0372784   \n",
       "12589       http://thedarkknight.warnerbros.com/dvdsite/     155  tt0468569   \n",
       "24090                                                NaN   47517  tt0271136   \n",
       "28914                                                NaN   72003  tt2258647   \n",
       "35802                                                NaN  191731  tt2912144   \n",
       "35803                                                NaN  191731  tt2912144   \n",
       "41063                                                NaN   61999  tt0120066   \n",
       "\n",
       "      original_language  ...  \\\n",
       "516                  en  ...   \n",
       "7772                 en  ...   \n",
       "9311                 en  ...   \n",
       "9874                 en  ...   \n",
       "10210                en  ...   \n",
       "12589                en  ...   \n",
       "24090                en  ...   \n",
       "28914                en  ...   \n",
       "35802                fa  ...   \n",
       "35803                fa  ...   \n",
       "41063                en  ...   \n",
       "\n",
       "                                                 tagline  \\\n",
       "516    The story of a cop who wanted it bad and got i...   \n",
       "7772                            Brute Force With a Badge   \n",
       "9311                                                 NaN   \n",
       "9874   When Crime is a Way of Life, You Never Know if...   \n",
       "10210                             Evil fears the knight.   \n",
       "12589                                    Why So Serious?   \n",
       "24090  He's running for his life and running out of t...   \n",
       "28914                                                NaN   \n",
       "35802                                                NaN   \n",
       "35803                                                NaN   \n",
       "41063                                                NaN   \n",
       "\n",
       "                        title  video vote_average vote_count  \\\n",
       "516         Romeo Is Bleeding  False          5.7       36.0   \n",
       "7772                 Mitchell  False          4.4       15.0   \n",
       "9311                   Shiner  False          5.1       10.0   \n",
       "9874          Amongst Friends  False          4.3        3.0   \n",
       "10210           Batman Begins  False          7.5     7511.0   \n",
       "12589         The Dark Knight  False          8.3    12269.0   \n",
       "24090               Quicksand  False          5.9       10.0   \n",
       "28914         The Dark Knight  False          6.3        2.0   \n",
       "35802  Manuscripts Don't Burn  False          6.1        8.0   \n",
       "35803  Manuscripts Don't Burn  False          6.1        8.0   \n",
       "41063                    Sara  False          7.0       12.0   \n",
       "\n",
       "                                                cast  \\\n",
       "516         [garyoldman, lenaolin, annabellasciorra]   \n",
       "7772          [joedonbaker, martinbalsam, johnsaxon]   \n",
       "9311        [michaelcaine, martinlandau, andyserkis]   \n",
       "9874                                   [mirasorvino]   \n",
       "10210      [christianbale, michaelcaine, liamneeson]   \n",
       "12589     [christianbale, michaelcaine, heathledger]   \n",
       "24090  [michaelkeaton, michaelcaine, judithgodrèche]   \n",
       "28914             [kylewalsh, aaronfarb, debralopez]   \n",
       "35802                                             []   \n",
       "35803                                             []   \n",
       "41063           [bogusławlinda, agnieszkawłodarczyk]   \n",
       "\n",
       "                                                    crew  \\\n",
       "516    [{'credit_id': '52fe4334c3a36847f80422d1', 'de...   \n",
       "7772   [{'credit_id': '52fe44cb9251416c9101d24b', 'de...   \n",
       "9311   [{'credit_id': '52fe45bdc3a368484e06c373', 'de...   \n",
       "9874   [{'credit_id': '52fe4958c3a368484e126cff', 'de...   \n",
       "10210  [{'credit_id': '52fe4230c3a36847f800ac6d', 'de...   \n",
       "12589  [{'credit_id': '55a0eb4a925141296b0010f8', 'de...   \n",
       "24090  [{'credit_id': '52fe4737c3a36847f81297df', 'de...   \n",
       "28914  [{'credit_id': '52fe4852c3a368484e0f2eed', 'de...   \n",
       "35802  [{'credit_id': '52fe4c909251416c910f8ea5', 'de...   \n",
       "35803  [{'credit_id': '52fe4c909251416c910f8ea5', 'de...   \n",
       "41063  [{'credit_id': '52fe466dc3a368484e09032d', 'de...   \n",
       "\n",
       "                                       keywords          director  \\\n",
       "516     [policeoperation, sexaddiction, police]        petermedak   \n",
       "7772                             [drama, crime]  andrewv.mclaglen   \n",
       "9311                                         []         johnirvin   \n",
       "9874                                         []          robweiss   \n",
       "10210         [himalaya, martialarts, dccomics]  christophernolan   \n",
       "12589  [dccomics, crimefighter, secretidentity]  christophernolan   \n",
       "24090         [massage, limousine, executioner]     johnmackenzie   \n",
       "28914                                        []       drewmaxwell   \n",
       "35802                                        []  mohammadrasoulof   \n",
       "35803                                        []  mohammadrasoulof   \n",
       "41063                                        []    maciejslesicki   \n",
       "\n",
       "                                                    soup  \n",
       "516    policeoperation sexaddiction police garyoldman...  \n",
       "7772   drama crime joedonbaker martinbalsam johnsaxon...  \n",
       "9311    michaelcaine martinlandau andyserkis j o h n ...  \n",
       "9874     mirasorvino r o b w e i s s crime drama action   \n",
       "10210  himalaya martialarts dccomics christianbale mi...  \n",
       "12589  dccomics crimefighter secretidentity christian...  \n",
       "24090  massage limousine executioner michaelkeaton mi...  \n",
       "28914   kylewalsh aaronfarb debralopez d r e w m a x ...  \n",
       "35802       m o h a m m a d r a s o u l o f crime drama   \n",
       "35803       m o h a m m a d r a s o u l o f crime drama   \n",
       "41063   bogusławlinda agnieszkawłodarczyk m a c i e j...  \n",
       "\n",
       "[11 rows x 31 columns]"
      ]
     },
     "execution_count": 41,
     "metadata": {},
     "output_type": "execute_result"
    }
   ],
   "source": [
    "metadata[metadata.title.isin(bat.values.tolist())]"
   ]
  },
  {
   "cell_type": "code",
   "execution_count": null,
   "id": "5cf36671-06bd-4e8a-8f5e-a91a405a0e63",
   "metadata": {},
   "outputs": [],
   "source": []
  }
 ],
 "metadata": {
  "kernelspec": {
   "display_name": "Python 3 (ipykernel)",
   "language": "python",
   "name": "python3"
  },
  "language_info": {
   "codemirror_mode": {
    "name": "ipython",
    "version": 3
   },
   "file_extension": ".py",
   "mimetype": "text/x-python",
   "name": "python",
   "nbconvert_exporter": "python",
   "pygments_lexer": "ipython3",
   "version": "3.7.11"
  }
 },
 "nbformat": 4,
 "nbformat_minor": 5
}
