{
 "cells": [
  {
   "cell_type": "markdown",
   "id": "56583f53-ddcc-4208-9b58-66bee8ad6289",
   "metadata": {},
   "source": [
    "# Content based Recommendation \n",
    "\n",
    "## Idea 1: Overview/Description\n",
    "\n",
    "#### Limitations:\n",
    "\n",
    "* if user watches a movie, he might be interested in watching another movie with the same main actor or director for example, rather than another film with a similar description. This is not handled in this method."
   ]
  },
  {
   "cell_type": "markdown",
   "id": "393676b3-ecdf-4ec9-881c-f4904b5e479d",
   "metadata": {},
   "source": [
    "## Import Libraries"
   ]
  },
  {
   "cell_type": "code",
   "execution_count": 1,
   "id": "3a93843b-f38a-4c1d-bd0e-af6943bb31ce",
   "metadata": {},
   "outputs": [],
   "source": [
    "import numpy as np\n",
    "import pandas as pd\n",
    "import matplotlib.pyplot as plt\n",
    "import seaborn as sns\n",
    "from sklearn.metrics.pairwise import linear_kernel\n",
    "from sklearn.feature_extraction.text import TfidfVectorizer"
   ]
  },
  {
   "cell_type": "code",
   "execution_count": 2,
   "id": "617d6adb-faae-4851-8593-29960273561c",
   "metadata": {},
   "outputs": [],
   "source": [
    "data_path = '/Users/jeremy/data/movie_datasets/'"
   ]
  },
  {
   "cell_type": "code",
   "execution_count": 3,
   "id": "b64d305c-94db-4f92-8d76-b72c65fc3a89",
   "metadata": {},
   "outputs": [
    {
     "data": {
      "text/html": [
       "<div>\n",
       "<style scoped>\n",
       "    .dataframe tbody tr th:only-of-type {\n",
       "        vertical-align: middle;\n",
       "    }\n",
       "\n",
       "    .dataframe tbody tr th {\n",
       "        vertical-align: top;\n",
       "    }\n",
       "\n",
       "    .dataframe thead th {\n",
       "        text-align: right;\n",
       "    }\n",
       "</style>\n",
       "<table border=\"1\" class=\"dataframe\">\n",
       "  <thead>\n",
       "    <tr style=\"text-align: right;\">\n",
       "      <th></th>\n",
       "      <th>adult</th>\n",
       "      <th>belongs_to_collection</th>\n",
       "      <th>budget</th>\n",
       "      <th>genres</th>\n",
       "      <th>homepage</th>\n",
       "      <th>id</th>\n",
       "      <th>imdb_id</th>\n",
       "      <th>original_language</th>\n",
       "      <th>original_title</th>\n",
       "      <th>overview</th>\n",
       "      <th>...</th>\n",
       "      <th>release_date</th>\n",
       "      <th>revenue</th>\n",
       "      <th>runtime</th>\n",
       "      <th>spoken_languages</th>\n",
       "      <th>status</th>\n",
       "      <th>tagline</th>\n",
       "      <th>title</th>\n",
       "      <th>video</th>\n",
       "      <th>vote_average</th>\n",
       "      <th>vote_count</th>\n",
       "    </tr>\n",
       "  </thead>\n",
       "  <tbody>\n",
       "    <tr>\n",
       "      <th>0</th>\n",
       "      <td>False</td>\n",
       "      <td>{'id': 10194, 'name': 'Toy Story Collection', ...</td>\n",
       "      <td>30000000</td>\n",
       "      <td>[{'id': 16, 'name': 'Animation'}, {'id': 35, '...</td>\n",
       "      <td>http://toystory.disney.com/toy-story</td>\n",
       "      <td>862</td>\n",
       "      <td>tt0114709</td>\n",
       "      <td>en</td>\n",
       "      <td>Toy Story</td>\n",
       "      <td>Led by Woody, Andy's toys live happily in his ...</td>\n",
       "      <td>...</td>\n",
       "      <td>1995-10-30</td>\n",
       "      <td>373554033.0</td>\n",
       "      <td>81.0</td>\n",
       "      <td>[{'iso_639_1': 'en', 'name': 'English'}]</td>\n",
       "      <td>Released</td>\n",
       "      <td>NaN</td>\n",
       "      <td>Toy Story</td>\n",
       "      <td>False</td>\n",
       "      <td>7.7</td>\n",
       "      <td>5415.0</td>\n",
       "    </tr>\n",
       "    <tr>\n",
       "      <th>1</th>\n",
       "      <td>False</td>\n",
       "      <td>NaN</td>\n",
       "      <td>65000000</td>\n",
       "      <td>[{'id': 12, 'name': 'Adventure'}, {'id': 14, '...</td>\n",
       "      <td>NaN</td>\n",
       "      <td>8844</td>\n",
       "      <td>tt0113497</td>\n",
       "      <td>en</td>\n",
       "      <td>Jumanji</td>\n",
       "      <td>When siblings Judy and Peter discover an encha...</td>\n",
       "      <td>...</td>\n",
       "      <td>1995-12-15</td>\n",
       "      <td>262797249.0</td>\n",
       "      <td>104.0</td>\n",
       "      <td>[{'iso_639_1': 'en', 'name': 'English'}, {'iso...</td>\n",
       "      <td>Released</td>\n",
       "      <td>Roll the dice and unleash the excitement!</td>\n",
       "      <td>Jumanji</td>\n",
       "      <td>False</td>\n",
       "      <td>6.9</td>\n",
       "      <td>2413.0</td>\n",
       "    </tr>\n",
       "  </tbody>\n",
       "</table>\n",
       "<p>2 rows × 24 columns</p>\n",
       "</div>"
      ],
      "text/plain": [
       "   adult                              belongs_to_collection    budget  \\\n",
       "0  False  {'id': 10194, 'name': 'Toy Story Collection', ...  30000000   \n",
       "1  False                                                NaN  65000000   \n",
       "\n",
       "                                              genres  \\\n",
       "0  [{'id': 16, 'name': 'Animation'}, {'id': 35, '...   \n",
       "1  [{'id': 12, 'name': 'Adventure'}, {'id': 14, '...   \n",
       "\n",
       "                               homepage    id    imdb_id original_language  \\\n",
       "0  http://toystory.disney.com/toy-story   862  tt0114709                en   \n",
       "1                                   NaN  8844  tt0113497                en   \n",
       "\n",
       "  original_title                                           overview  ...  \\\n",
       "0      Toy Story  Led by Woody, Andy's toys live happily in his ...  ...   \n",
       "1        Jumanji  When siblings Judy and Peter discover an encha...  ...   \n",
       "\n",
       "  release_date      revenue runtime  \\\n",
       "0   1995-10-30  373554033.0    81.0   \n",
       "1   1995-12-15  262797249.0   104.0   \n",
       "\n",
       "                                    spoken_languages    status  \\\n",
       "0           [{'iso_639_1': 'en', 'name': 'English'}]  Released   \n",
       "1  [{'iso_639_1': 'en', 'name': 'English'}, {'iso...  Released   \n",
       "\n",
       "                                     tagline      title  video vote_average  \\\n",
       "0                                        NaN  Toy Story  False          7.7   \n",
       "1  Roll the dice and unleash the excitement!    Jumanji  False          6.9   \n",
       "\n",
       "  vote_count  \n",
       "0     5415.0  \n",
       "1     2413.0  \n",
       "\n",
       "[2 rows x 24 columns]"
      ]
     },
     "execution_count": 3,
     "metadata": {},
     "output_type": "execute_result"
    }
   ],
   "source": [
    "metadata = pd.read_csv(data_path + 'movies_metadata.csv', low_memory=False)\n",
    "metadata.head(2)"
   ]
  },
  {
   "cell_type": "markdown",
   "id": "2f630bdf-415f-4b2e-bb6a-53e9b90da56d",
   "metadata": {},
   "source": [
    "## Data Preprocessing / Feature engineering"
   ]
  },
  {
   "cell_type": "code",
   "execution_count": 4,
   "id": "342269b4-51ce-411f-b83e-f27673e29cb5",
   "metadata": {},
   "outputs": [],
   "source": [
    "metadata['overview'] = metadata['overview'].fillna('')\n",
    "metadata = metadata[metadata.adult.isin(['True','False'])]\n",
    "metadata['id'] = metadata['id'].astype('int')"
   ]
  },
  {
   "cell_type": "code",
   "execution_count": 5,
   "id": "8ce95295-0e51-4ee3-ac64-507a1a3b5d40",
   "metadata": {},
   "outputs": [
    {
     "data": {
      "text/plain": [
       "0    Led by Woody, Andy's toys live happily in his ...\n",
       "1    When siblings Judy and Peter discover an encha...\n",
       "Name: overview, dtype: object"
      ]
     },
     "execution_count": 5,
     "metadata": {},
     "output_type": "execute_result"
    }
   ],
   "source": [
    "metadata['overview'].head(2)"
   ]
  },
  {
   "cell_type": "markdown",
   "id": "6445916b-43c4-405e-9f43-722cfb39c61a",
   "metadata": {},
   "source": [
    "### Text data (NLP)\n",
    "\n",
    "This is an NLP problem. We need to extract features from the `overview` feature which can be used to compute cosine similarity. This needs to be in a numeric format not raw strings.\n",
    "\n",
    "To do this, you need to compute the word vectors of each overview or document.\n",
    "\n",
    "`Term Frequency-Inverse Document Frequency` (TF-IDF) vectors for each document needs to be computed. This will create a matrix where each column represents a word in the overview vocabulary (all the words that appear in at least one document), and each column represents a movie, as before.\n",
    "\n",
    "In its essence, the TF-IDF score is the frequency of a word occurring in a document, down-weighted by the number of documents in which it occurs. This is done to reduce the importance of words that frequently occur in plot overviews and, therefore, their significance in computing the final similarity score.\n",
    "\n",
    "\n",
    "The method that we will follows is the following:\n",
    "\n",
    "* import tfidf from sklearn\n",
    "* remove stop words 'the', 'an', etc (these do not provide any information\n",
    "* replace nan with ''\n",
    "* compute TF-IDF matrix"
   ]
  },
  {
   "cell_type": "code",
   "execution_count": 6,
   "id": "990c4967-aa93-4c37-badd-8a6484dd248e",
   "metadata": {},
   "outputs": [
    {
     "data": {
      "text/plain": [
       "(45463, 75827)"
      ]
     },
     "execution_count": 6,
     "metadata": {},
     "output_type": "execute_result"
    }
   ],
   "source": [
    "tfidf = TfidfVectorizer(stop_words='english')\n",
    "tfidf_matrix = tfidf.fit_transform(metadata['overview'])\n",
    "tfidf_matrix.shape"
   ]
  },
  {
   "cell_type": "markdown",
   "id": "0710a95e-d8f5-49c8-80cf-9b85442c70f8",
   "metadata": {},
   "source": [
    "# Cosine Similarities"
   ]
  },
  {
   "cell_type": "code",
   "execution_count": null,
   "id": "947455b9-6131-450a-a64a-71b4912bc52a",
   "metadata": {},
   "outputs": [],
   "source": [
    "cosine_sim = linear_kernel(tfidf_matrix, tfidf_matrix)\n",
    "cosine_sim.shape"
   ]
  },
  {
   "cell_type": "markdown",
   "id": "d07c058a-f6be-4a83-8640-e80f2cbc69b7",
   "metadata": {},
   "source": [
    "## TODO:\n",
    "\n",
    "* write a function that takes a movie title and returns a list of top n most similar movies\n",
    "\n",
    "\n",
    "1. get the index of the specified movie given its title\n",
    "2. get the list of cosine similarity scores for that movie\n",
    "3. convert it into a list of tuples, where elmt 0 is its position and elmt 1 is the score\n",
    "4. get top n elements of this list (ignoring the first element which will be itself)\n",
    "5. return titles of these top n movies"
   ]
  },
  {
   "cell_type": "code",
   "execution_count": null,
   "id": "4b3c0ffa-cc51-4c5c-8bbf-a023b6d037f8",
   "metadata": {},
   "outputs": [],
   "source": [
    "indices_ = pd.Series(metadata.index, index=metadata['title']).drop_duplicates()\n",
    "indices_[:2]"
   ]
  },
  {
   "cell_type": "code",
   "execution_count": null,
   "id": "00d2169a-6e9f-41f6-9f3d-08445824ad15",
   "metadata": {},
   "outputs": [],
   "source": [
    "indices_['Toy Story']"
   ]
  },
  {
   "cell_type": "code",
   "execution_count": null,
   "id": "ecf127ac-da02-4e36-9114-42671ad6f2e7",
   "metadata": {},
   "outputs": [],
   "source": [
    "def get_cb_recommendations(title: str, metadata: pd.DataFrame = metadata, top_n: int = 10, cosine_sim = cosine_sim):\n",
    "    idx = indices[title]\n",
    "    \n",
    "    sim_scores = list(enumerate(cosine_sim[idx]))\n",
    "    sim_scores = sorted(sim_scores, key=lambda x: x[1], reverse=True)\n",
    "    \n",
    "    sim_scores = sim_scores[1:top_n + 1]\n",
    "    movie_indices = [i[0] for i in sim_scores]\n",
    "    \n",
    "    return metadata['title'].iloc[movie_indices]"
   ]
  },
  {
   "cell_type": "code",
   "execution_count": null,
   "id": "492ef692-8aa9-4b72-81bf-91d670aa79a6",
   "metadata": {},
   "outputs": [],
   "source": [
    "get_cb_recommendations('The Dark Knight Rises')"
   ]
  },
  {
   "cell_type": "code",
   "execution_count": null,
   "id": "dc197239-df3b-45e5-97b5-91b11d12c4b2",
   "metadata": {},
   "outputs": [],
   "source": [
    "get_cb_recommendations('The Godfather')"
   ]
  },
  {
   "cell_type": "markdown",
   "id": "222419f5-9982-4ef2-ba3b-0332cee5cdb3",
   "metadata": {},
   "source": [
    "## Import Libraries"
   ]
  },
  {
   "cell_type": "code",
   "execution_count": null,
   "id": "ddadeeb0-df29-4760-9d74-84bb5de1fdf5",
   "metadata": {},
   "outputs": [],
   "source": [
    "from ast import literal_eval\n",
    "from sklearn.feature_extraction.text import CountVectorizer\n",
    "from sklearn.metrics.pairwise import cosine_similarity"
   ]
  },
  {
   "cell_type": "markdown",
   "id": "e63db432-d4e2-4082-8ad8-f98adb25b23d",
   "metadata": {
    "tags": []
   },
   "source": [
    "## Idea 2: Cast, Crew, Genres, Keywords based recommender"
   ]
  },
  {
   "cell_type": "code",
   "execution_count": null,
   "id": "1204ccdb-af6a-47be-9498-9fe054012168",
   "metadata": {},
   "outputs": [],
   "source": [
    "credits = pd.read_csv(data_path + 'credits.csv')\n",
    "keywords = pd.read_csv(data_path + 'keywords.csv')"
   ]
  },
  {
   "cell_type": "code",
   "execution_count": null,
   "id": "55fa2f97-7617-427c-a9bd-81355426664a",
   "metadata": {},
   "outputs": [],
   "source": [
    "keywords.info()"
   ]
  },
  {
   "cell_type": "code",
   "execution_count": null,
   "id": "87612aae-fea9-443c-a85d-131ad511e0f1",
   "metadata": {},
   "outputs": [],
   "source": [
    "metadata = metadata.merge(credits, on='id')\n",
    "metadata = metadata.merge(keywords, on='id')"
   ]
  },
  {
   "cell_type": "markdown",
   "id": "1ea822d3-92cd-43f8-899e-e317f6c978e9",
   "metadata": {},
   "source": [
    "## Data Preprocessing / Feature engineering\n",
    "\n",
    "* Parse the stringified features into their corresponding python objects\n",
    "* define function which extracts director from crew feature\n",
    "* define function which creates a clean list of objects from list of dictionary features\n",
    "* convert new clean string features to lower case and remove whitespace (Removing the spaces between words is an important preprocessing step. It is done so that your vectorizer doesn't count the Johnny of \"Johnny Depp\" and \"Johnny Galecki\" as the same)\n",
    "* the new clean features will the be concatenated into a single string feature \"metadata soup\"\n"
   ]
  },
  {
   "cell_type": "code",
   "execution_count": null,
   "id": "6f00c703-d3bd-4757-ab21-acb9b5d4ff95",
   "metadata": {},
   "outputs": [],
   "source": [
    "features = ['cast', 'crew', 'keywords', 'genres']\n",
    "\n",
    "for feature in features:\n",
    "    metadata[feature] = metadata[feature].apply(literal_eval)"
   ]
  },
  {
   "cell_type": "code",
   "execution_count": null,
   "id": "c0d73090-6d08-42b9-8af2-fcae01712299",
   "metadata": {},
   "outputs": [],
   "source": [
    "def get_director(x: list) -> str:\n",
    "    for i in x:\n",
    "        if i.get('job') == 'Director':\n",
    "            return i.get('name')\n",
    "    return np.nan\n",
    "\n",
    "\n",
    "def get_clean_list(x: list, top_n: int = 3) -> list:\n",
    "    \n",
    "    if isinstance(x, list):\n",
    "        names = [i['name'] for i in x]\n",
    "        \n",
    "        if (top_n) & (len(names) > top_n):\n",
    "            names = names[:top_n]\n",
    "        \n",
    "        return names\n",
    "    return []"
   ]
  },
  {
   "cell_type": "code",
   "execution_count": null,
   "id": "d61b19ca-76ee-4024-b603-db9cb0706118",
   "metadata": {},
   "outputs": [],
   "source": [
    "# Extract director feature and process cast, genres and keywords features\n",
    "\n",
    "metadata['director'] = metadata['crew'].apply(get_director)\n",
    "\n",
    "features = ['cast', 'keywords', 'genres']\n",
    "\n",
    "for feature in features:\n",
    "    metadata[feature] = metadata[feature].apply(get_clean_list)"
   ]
  },
  {
   "cell_type": "code",
   "execution_count": null,
   "id": "0a33ebf9-f129-4523-aae7-3c7ad5f979c3",
   "metadata": {},
   "outputs": [],
   "source": [
    "metadata[['title', 'cast', 'director', 'keywords', 'genres']].head(3)"
   ]
  },
  {
   "cell_type": "code",
   "execution_count": null,
   "id": "5f846399-4964-46df-b3de-dded6240e729",
   "metadata": {},
   "outputs": [],
   "source": [
    "def clean_string_features(x: list):\n",
    "    \n",
    "    if isinstance(x, list):\n",
    "        return [str.lower(i.replace(\" \", \"\")) for i in x]\n",
    "    else:\n",
    "        \n",
    "        if isinstance(x, str):\n",
    "            return str.lower(x.replace(\" \", \"\"))\n",
    "        \n",
    "        else:\n",
    "            return ''"
   ]
  },
  {
   "cell_type": "code",
   "execution_count": null,
   "id": "51925861-b2a0-43ef-a6be-b8dcf4b486cc",
   "metadata": {},
   "outputs": [],
   "source": [
    "features = ['cast', 'keywords', 'director', 'genres']\n",
    "\n",
    "for feature in features:\n",
    "    metadata[feature] = metadata[feature].apply(clean_string_features)"
   ]
  },
  {
   "cell_type": "code",
   "execution_count": null,
   "id": "43a97b21-074e-46f3-88fd-1b197f97edb8",
   "metadata": {},
   "outputs": [],
   "source": [
    "metadata[['title', 'cast', 'director', 'keywords', 'genres']].head(3)"
   ]
  },
  {
   "cell_type": "code",
   "execution_count": null,
   "id": "3e0106d5-21f2-4410-b3a1-c6b7a0d5d768",
   "metadata": {},
   "outputs": [],
   "source": [
    "def create_metadata_soup(x):\n",
    "    return ' '.join(x['keywords']) + ' ' + ' '.join(x['cast']) + ' ' + ' '.join(x['director']) + ' ' + ' '.join(x['genres']) + ' '\n"
   ]
  },
  {
   "cell_type": "code",
   "execution_count": null,
   "id": "0b93042c-95de-4992-8476-b662e8528f96",
   "metadata": {},
   "outputs": [],
   "source": [
    "metadata['soup'] = metadata.apply(create_metadata_soup, axis=1)"
   ]
  },
  {
   "cell_type": "code",
   "execution_count": null,
   "id": "9c742113-ddf1-4b36-9ad1-d66368cb048d",
   "metadata": {},
   "outputs": [],
   "source": [
    "metadata[['soup','title', 'cast', 'director', 'keywords', 'genres']].head(3)"
   ]
  },
  {
   "cell_type": "markdown",
   "id": "3f7471f3-762c-40e2-8d0a-d63a52ddbadd",
   "metadata": {},
   "source": [
    "### Note\n",
    "\n",
    "Next step is very close to what we did before to solve the NLP problem. The main difference is that here we will be using `CountVectorizer` instead of `TF-IDF`. The reason is that you do not want to down-weight the actor/director's presence if he or she has acted or directed in relatively more movies. It doesn't make much intuitive sense to down-weight them in this context.\n",
    "\n",
    "The main difference between `CountVectorizer` and `TF-IDF` is the inverse document frequency (IDF) component which is only present in `TF-IDF`."
   ]
  },
  {
   "cell_type": "code",
   "execution_count": null,
   "id": "05232264-a34b-45b1-9586-bb4097a5677b",
   "metadata": {},
   "outputs": [],
   "source": [
    "count = CountVectorizer(stop_words='english')\n",
    "count_matrix = count.fit_transform(metadata['soup'])\n",
    "count_matrix.shape"
   ]
  },
  {
   "cell_type": "code",
   "execution_count": null,
   "id": "b31a1eb9-8d96-47f5-9f96-2862ca5e0380",
   "metadata": {},
   "outputs": [],
   "source": [
    "cosine_count_sim = cosine_similarity(count_matrix, count_matrix)"
   ]
  },
  {
   "cell_type": "code",
   "execution_count": null,
   "id": "eb3b638e-443e-4b5f-b3b5-fbf1929a959b",
   "metadata": {},
   "outputs": [],
   "source": [
    "# Reset index of your main DataFrame and construct reverse mapping as before\n",
    "metadata = metadata.reset_index()\n",
    "indices = pd.Series(metadata.index, index=metadata['title'])"
   ]
  },
  {
   "cell_type": "code",
   "execution_count": null,
   "id": "e4d15e81-c510-4663-a9bb-f4696d361494",
   "metadata": {},
   "outputs": [],
   "source": [
    "get_cb_recommendations('The Dark Knight Rises', cosine_sim=cosine_count_sim)"
   ]
  },
  {
   "cell_type": "code",
   "execution_count": null,
   "id": "d2c14950-db23-46ce-afd4-5f8a4c4968f3",
   "metadata": {},
   "outputs": [],
   "source": [
    "get_cb_recommendations('The Godfather', cosine_sim=cosine_count_sim)"
   ]
  },
  {
   "cell_type": "code",
   "execution_count": null,
   "id": "40b0674c-b512-4a4e-b2e8-5d395d8e9ce4",
   "metadata": {},
   "outputs": [],
   "source": []
  }
 ],
 "metadata": {
  "kernelspec": {
   "display_name": "Python 3 (ipykernel)",
   "language": "python",
   "name": "python3"
  },
  "language_info": {
   "codemirror_mode": {
    "name": "ipython",
    "version": 3
   },
   "file_extension": ".py",
   "mimetype": "text/x-python",
   "name": "python",
   "nbconvert_exporter": "python",
   "pygments_lexer": "ipython3",
   "version": "3.7.11"
  }
 },
 "nbformat": 4,
 "nbformat_minor": 5
}
